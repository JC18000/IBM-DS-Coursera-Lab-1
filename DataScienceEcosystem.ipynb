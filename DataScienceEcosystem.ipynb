{
 "cells": [
  {
   "cell_type": "markdown",
   "id": "388a0b89-2c63-443b-a8eb-e8141162f767",
   "metadata": {},
   "source": [
    "# Data Science Tools and Ecosystem"
   ]
  },
  {
   "cell_type": "markdown",
   "id": "1c9c4e35-74a7-4603-b8b0-fd2b64837b3c",
   "metadata": {},
   "source": [
    "In this notebook, Data Science Tools and Ecosystem are summarized."
   ]
  },
  {
   "cell_type": "markdown",
   "id": "52e08991-63a6-4608-a6d0-15359639f8e8",
   "metadata": {},
   "source": [
    "**Objectives:**\n",
    "* List popular data science languages\n",
    "* List relevant libraries\n",
    "* List relevant tools\n",
    "* Demonstrate a simple expression and code"
   ]
  },
  {
   "cell_type": "markdown",
   "id": "0f6d21f1-5991-43bc-94b2-2a7d4d412371",
   "metadata": {},
   "source": [
    "Some of the popular languages that Data Scientists use are:\n",
    "1. Python\n",
    "2. R\n",
    "3. C/C++"
   ]
  },
  {
   "attachments": {},
   "cell_type": "markdown",
   "id": "e7ef17c3-ac63-47f1-a97d-86a9d6df5c6b",
   "metadata": {},
   "source": [
    "Some of the commonly used libraries used by Data Scientists include:\n",
    "For Python:\n",
    "1. Pandas\n",
    "2. MatPlotLib\n",
    "3. SciKitLearn\n",
    "For R:\n",
    "1. dplyr\n",
    "2. Caret\n",
    "3. GGplot"
   ]
  },
  {
   "cell_type": "markdown",
   "id": "8e487c30-45a6-4d61-b2da-378639e44508",
   "metadata": {},
   "source": [
    "| Data Science Tools |\n",
    "| ------------------ |\n",
    "| Git |\n",
    "| Jupyter Labs |\n",
    "| Google Colab |"
   ]
  },
  {
   "cell_type": "markdown",
   "id": "a0d0ed5f-6edf-46da-ba13-df7f7bdbe673",
   "metadata": {},
   "source": [
    "Below are a few examples of evaluating arithmetic expressions in Python"
   ]
  },
  {
   "cell_type": "code",
   "execution_count": 1,
   "id": "471aa7a7-6363-4262-b194-98bda2c1d4c4",
   "metadata": {},
   "outputs": [
    {
     "data": {
      "text/plain": [
       "17"
      ]
     },
     "execution_count": 1,
     "metadata": {},
     "output_type": "execute_result"
    }
   ],
   "source": [
    "# This is a simple arithmetic expression to multiply then add integers\n",
    "(3*4)+5"
   ]
  },
  {
   "cell_type": "code",
   "execution_count": 2,
   "id": "b0942c39-ac7b-4d8a-8df3-4ea3b314f2a3",
   "metadata": {},
   "outputs": [
    {
     "name": "stdout",
     "output_type": "stream",
     "text": [
      "3.3333333333333335\n"
     ]
    }
   ],
   "source": [
    "# This will convert 200 minutes into hours by dividing by 60\n",
    "Minutes = 200\n",
    "Hours = Minutes / 60\n",
    "print(Hours)"
   ]
  },
  {
   "cell_type": "markdown",
   "id": "15253730-3697-4e70-9c6f-3b553748443d",
   "metadata": {},
   "source": [
    "## Author\n",
    "JC180"
   ]
  }
 ],
 "metadata": {
  "kernelspec": {
   "display_name": "Python 3 (ipykernel)",
   "language": "python",
   "name": "python3"
  },
  "language_info": {
   "codemirror_mode": {
    "name": "ipython",
    "version": 3
   },
   "file_extension": ".py",
   "mimetype": "text/x-python",
   "name": "python",
   "nbconvert_exporter": "python",
   "pygments_lexer": "ipython3",
   "version": "3.11.9"
  }
 },
 "nbformat": 4,
 "nbformat_minor": 5
}
